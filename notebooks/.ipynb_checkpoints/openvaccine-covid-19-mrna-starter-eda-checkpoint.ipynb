{
 "cells": [
  {
   "cell_type": "markdown",
   "metadata": {},
   "source": [
    "# OpenVaccine: mRNA Vaccine Degradation Prediction\n",
    "\n",
    "<div>\n",
    "<img src=\"https://daslab.stanford.edu/site_data/news_img/openvaccine_lores.png\" width=\"300\" height=\"100\"/>\n",
    "</div>\n",
    "\n",
    "In this competition, you will be predicting the degradation rates at various locations along RNA sequence.\n",
    "\n",
    "There are multiple ground truth values provided in the training data. While the submission format requires all 5 to be predicted, only the following are scored: `reactivity`, `deg_Mg_pH10`, and `deg_Mg_50C`."
   ]
  },
  {
   "cell_type": "code",
   "execution_count": 3,
   "metadata": {
    "_cell_guid": "b1076dfc-b9ad-4769-8c92-a6c4dae69d19",
    "_uuid": "8f2839f25d086af736a60e9eeb907d3b93b6e0e5"
   },
   "outputs": [],
   "source": [
    "import pandas as pd\n",
    "import numpy as np\n",
    "import matplotlib.pylab as plt\n",
    "import json\n",
    "import ast\n",
    "import seaborn as sns\n",
    "import os\n",
    "\n",
    "import lightgbm as lgb\n",
    "from sklearn.model_selection import train_test_split\n",
    "\n",
    "from itertools import cycle\n",
    "pd.set_option('max_columns', 50)\n",
    "plt.style.use('ggplot')\n",
    "color_pal = plt.rcParams['axes.prop_cycle'].by_key()['color']\n",
    "color_cycle = cycle(plt.rcParams['axes.prop_cycle'].by_key()['color'])"
   ]
  },
  {
   "cell_type": "markdown",
   "metadata": {},
   "source": [
    "## Data Exploration\n",
    "Lets take a look at the data. It's provided in json format."
   ]
  },
  {
   "cell_type": "code",
   "execution_count": 8,
   "metadata": {},
   "outputs": [
    {
     "name": "stdout",
     "output_type": "stream",
     "text": [
      "total 75M\r\n",
      "   0 drwxr-xr-x 5 root  159 Sep 24 17:17 \u001b[0m\u001b[01;34m.\u001b[0m/\r\n",
      "   0 drwxrwxrwx 6 root  138 Sep 24 16:39 \u001b[34;42m..\u001b[0m/\r\n",
      "   0 drwxr-xr-x 2 root    6 Sep 24 17:11 \u001b[01;34m.ipynb_checkpoints\u001b[0m/\r\n",
      "268K drwxr-xr-x 2 root 192K Sep 24 16:40 \u001b[01;34mbpps\u001b[0m/\r\n",
      "   0 drwxr-xr-x 3 root  184 Sep 24 17:17 \u001b[01;34mnotebooks\u001b[0m/\r\n",
      " 16M -rw-r--r-- 1 root  16M Sep 11 00:59 sample_submission.csv\r\n",
      " 45M -rw-r--r-- 1 root  45M Sep 24 16:39 stanford-covid-vaccine.zip\r\n",
      "1.8M -rw-r--r-- 1 root 1.8M Sep 11 00:59 test.json\r\n",
      " 13M -rw-r--r-- 1 root  13M Sep 11 00:59 train.json\r\n"
     ]
    }
   ],
   "source": [
    "!ls -GFlash --color .."
   ]
  },
  {
   "cell_type": "code",
   "execution_count": 4,
   "metadata": {
    "_cell_guid": "79c7e3d0-c299-4dcb-8224-4455121ee9b0",
    "_uuid": "d629ff2d2480ee46fbb7e2d37f6b5fab8052498a"
   },
   "outputs": [
    {
     "name": "stdout",
     "output_type": "stream",
     "text": [
      "ls: cannot access '../input/stanford-covid-vaccine/': No such file or directory\r\n"
     ]
    }
   ],
   "source": [
    "!ls -GFlash --color ../input/stanford-covid-vaccine/"
   ]
  },
  {
   "cell_type": "markdown",
   "metadata": {},
   "source": [
    "The bpps directory has a bunch of numpy data. It's about 670MB in size."
   ]
  },
  {
   "cell_type": "code",
   "execution_count": null,
   "metadata": {},
   "outputs": [],
   "source": [
    "!ls -GFlash --color ../bpps/ | head"
   ]
  },
  {
   "cell_type": "code",
   "execution_count": null,
   "metadata": {},
   "outputs": [],
   "source": [
    "!du -h ../input/stanford-covid-vaccine/bpps/"
   ]
  },
  {
   "cell_type": "markdown",
   "metadata": {},
   "source": [
    "# Loading JSON Files"
   ]
  },
  {
   "cell_type": "code",
   "execution_count": null,
   "metadata": {},
   "outputs": [],
   "source": [
    "train = pd.read_json('../input/stanford-covid-vaccine/train.json',lines=True)\n",
    "test = pd.read_json('../input/stanford-covid-vaccine/test.json', lines=True)\n",
    "ss = pd.read_csv('../input/stanford-covid-vaccine/sample_submission.csv')\n",
    "print(f'Train shape: {train.shape}, test shape: {test.shape}, sample submission shape: {ss.shape}')\n",
    "\n",
    "print('========= train columns ==========')\n",
    "print([c for c in train.columns])\n",
    "\n",
    "print('========= test columns ==========')\n",
    "print([c for c in test.columns])"
   ]
  },
  {
   "cell_type": "markdown",
   "metadata": {},
   "source": [
    "# Look at Numpy Data\n",
    "\n",
    "We don't know much about the numpy data from the data description. We think they might be Base Pairing Probability Matrix files. According to [this paper abstract:](https://www.ncbi.nlm.nih.gov/pmc/articles/PMC3514005/#:~:text=A%20base%2Dpairing%20probability%20matrix,structure%20prediction%20and%20motif%20search)\n",
    "\n",
    "*A base-pairing probability matrix (BPPM) stores the probabilities for every possible base pair in an RNA sequence and has been used in many algorithms in RNA informatics (e.g., RNA secondary structure prediction and motif search). In this study, we propose a novel algorithm to perform iterative updates of a given BPPM, satisfying marginal probability constraints that are (approximately) given by recently developed biochemical experiments, such as SHAPE, PAR, and FragSeq. The method is easily implemented and is applicable to common models for RNA secondary structures, such as energy-based or machine-learning–based models. In this article, we focus mainly on the details of the algorithms, although preliminary computational experiments will also be presented.*\n",
    "\n"
   ]
  },
  {
   "cell_type": "code",
   "execution_count": null,
   "metadata": {},
   "outputs": [],
   "source": [
    "bpps_files = os.listdir('../input/stanford-covid-vaccine/bpps/')\n",
    "example_bpps = np.load(f'../input/stanford-covid-vaccine/bpps/{bpps_files[0]}')\n",
    "print('bpps file shape:', example_bpps.shape)"
   ]
  },
  {
   "cell_type": "markdown",
   "metadata": {},
   "source": [
    "Lets plot this data for 25 examples."
   ]
  },
  {
   "cell_type": "code",
   "execution_count": null,
   "metadata": {},
   "outputs": [],
   "source": [
    "plt.style.use('default')\n",
    "fig, axs = plt.subplots(5, 5, figsize=(15, 15))\n",
    "axs = axs.flatten()\n",
    "for i, f in enumerate(bpps_files):\n",
    "    if i == 25:\n",
    "        break\n",
    "    example_bpps = np.load(f'../input/stanford-covid-vaccine/bpps/{f}')\n",
    "    axs[i].imshow(example_bpps)\n",
    "    axs[i].set_title(f)\n",
    "plt.tight_layout()\n",
    "plt.show()"
   ]
  },
  {
   "cell_type": "markdown",
   "metadata": {},
   "source": [
    "# Sample Submission\n",
    "\n",
    "Lets quickly look at the sample submission format. Even though we submit for addional solumns, only three columns are scored: `reactivity`, `deg_Mg_pH10`, and `deg_Mg_50C`"
   ]
  },
  {
   "cell_type": "code",
   "execution_count": null,
   "metadata": {},
   "outputs": [],
   "source": [
    "ss.head()"
   ]
  },
  {
   "cell_type": "markdown",
   "metadata": {},
   "source": [
    "# reactivity column\n",
    "\n",
    "In the data description we are told:\n",
    "- `reactivity` - (1x68 vector in train/test, 1x91 in final scoring) An array of floating point numbers, should have the same length as seq_scored. These numbers are reactivity values for the first 68 bases as denoted in sequence, and used to determine the likely secondary structure of the RNA sample.\n"
   ]
  },
  {
   "cell_type": "code",
   "execution_count": null,
   "metadata": {},
   "outputs": [],
   "source": [
    "train['reactivity'].head()"
   ]
  },
  {
   "cell_type": "code",
   "execution_count": null,
   "metadata": {},
   "outputs": [],
   "source": [
    "print('===== Example Train Reacivity ======')\n",
    "print([round(r, 2) for r in train['reactivity'][0]])"
   ]
  },
  {
   "cell_type": "markdown",
   "metadata": {},
   "source": [
    "## deg_Mg_pH10 column\n",
    "\n",
    "We are told:\n",
    "- deg_Mg_pH10 - (1x68 vector in train/test, 1x91 in final scoring) An array of floating point numbers, should have the same length as seq_scored. These numbers are reactivity values for the first 68 bases as denoted in sequence, and used to determine the likelihood of degradation at the base/linkage after incubating with magnesium in high pH (pH 10)."
   ]
  },
  {
   "cell_type": "code",
   "execution_count": null,
   "metadata": {},
   "outputs": [],
   "source": [
    "print('===== Example Train deg_Mg_pH10 value ======')\n",
    "print([round(r, 2) for r in train['deg_Mg_pH10'][0]])"
   ]
  },
  {
   "cell_type": "markdown",
   "metadata": {},
   "source": [
    "## deg_Mg_50C column\n",
    "- deg_Mg_50C - (1x68 vector in train/test, 1x91 in final scoring) An array of floating point numbers, should have the same length as seq_scored. These numbers are reactivity values for the first 68 bases as denoted in sequence, and used to determine the likelihood of degradation at the base/linkage after incubating with magnesium at high temperature (50 degrees Celsius).\n"
   ]
  },
  {
   "cell_type": "code",
   "execution_count": null,
   "metadata": {},
   "outputs": [],
   "source": [
    "print('===== Example Train deg_Mg_50C value ======')\n",
    "print([round(r, 2) for r in train['deg_Mg_50C'][0]])"
   ]
  },
  {
   "cell_type": "markdown",
   "metadata": {},
   "source": [
    "## signal_to_noise feature"
   ]
  },
  {
   "cell_type": "code",
   "execution_count": null,
   "metadata": {},
   "outputs": [],
   "source": [
    "plt.style.use('ggplot')\n",
    "fig, ax = plt.subplots(figsize=(10, 3))\n",
    "ax = sns.distplot(train['signal_to_noise'])\n",
    "ax.set_title('Signal to Noise feature (train)')\n",
    "plt.show()"
   ]
  },
  {
   "cell_type": "markdown",
   "metadata": {},
   "source": [
    "## seq_length\n",
    "\n",
    "Train data consists of only 107 sequence length. The test data contains mostly 130 sequence lengths."
   ]
  },
  {
   "cell_type": "code",
   "execution_count": null,
   "metadata": {},
   "outputs": [],
   "source": [
    "test['seq_length'].value_counts() \\\n",
    "    .plot(kind='bar', figsize=(10, 4),\n",
    "          color=color_pal[4],\n",
    "         title='Sequence Length in public test set')\n",
    "plt.show()"
   ]
  },
  {
   "cell_type": "markdown",
   "metadata": {},
   "source": [
    "# Baseline Submission [0.47840 LB]\n",
    "## Predict the average value for each target column\n",
    "Lets first calculate the average value for the target columns. And then create a 91 length vector as a baseline submission."
   ]
  },
  {
   "cell_type": "code",
   "execution_count": null,
   "metadata": {},
   "outputs": [],
   "source": [
    "fig, axs = plt.subplots(3, 1,\n",
    "                        figsize=(10, 6),\n",
    "                        sharex=True)\n",
    "axs = axs.flatten()\n",
    "train['mean_reactivity'] = train['reactivity'].apply(lambda x: np.mean(x))\n",
    "train['mean_deg_Mg_pH10'] = train['deg_Mg_pH10'].apply(lambda x: np.mean(x))\n",
    "train['mean_deg_Mg_50C'] = train['deg_Mg_50C'].apply(lambda x: np.mean(x))\n",
    "\n",
    "train['mean_reactivity'] \\\n",
    "    .plot(kind='hist',\n",
    "          bins=50,\n",
    "          color=color_pal[0],\n",
    "          title='Distribution of Mean Reactivity in training set',\n",
    "         ax=axs[0])\n",
    "train['mean_deg_Mg_pH10'] \\\n",
    "    .plot(kind='hist',\n",
    "          bins=50,\n",
    "          ax=axs[1],\n",
    "          color=color_pal[4],\n",
    "          title='Distribution of Mean deg_Mg_pH10 in training set')\n",
    "train['mean_deg_Mg_50C'] \\\n",
    "    .plot(kind='hist',\n",
    "          bins=50,\n",
    "          ax=axs[2],\n",
    "          color=color_pal[3],\n",
    "          title='Distribution of Mean deg_Mg_50C in training set')\n",
    "plt.tight_layout()\n",
    "plt.show()"
   ]
  },
  {
   "cell_type": "markdown",
   "metadata": {},
   "source": [
    "## Fill in predictions with the mean value\n"
   ]
  },
  {
   "cell_type": "code",
   "execution_count": null,
   "metadata": {},
   "outputs": [],
   "source": [
    "mean_react = train['mean_reactivity'].mean()\n",
    "mean_deg_Mg_pH10 = train['mean_deg_Mg_pH10'].mean()\n",
    "mean_deg_Mg_50C = train['mean_deg_Mg_50C'].mean()\n",
    "\n",
    "ss['reactivity'] = mean_react\n",
    "ss['deg_Mg_pH10'] = mean_deg_Mg_pH10\n",
    "ss['deg_Mg_50C'] = mean_deg_Mg_50C\n",
    "\n",
    "ss.to_csv('submission.csv', index=False)\n",
    "ss.head()"
   ]
  },
  {
   "cell_type": "markdown",
   "metadata": {},
   "source": [
    "# Plot the Targets for Each Training Example\n",
    "First we need to split the list of 68 values for each target into their own columns. Then we can plot."
   ]
  },
  {
   "cell_type": "code",
   "execution_count": null,
   "metadata": {},
   "outputs": [],
   "source": [
    "# Split the 68 Reactivity values each into it's own column\n",
    "for n in range(68):\n",
    "    train[f'reactivity_{n}'] = train['reactivity'].apply(lambda x: x[n])\n",
    "    \n",
    "REACTIVITY_COLS = [r for r in train.columns if 'reactivity_' in r and 'error' not in r]\n",
    "\n",
    "ax = train.set_index('id')[REACTIVITY_COLS] \\\n",
    "    .T \\\n",
    "    .plot(color='black',\n",
    "          alpha=0.01,\n",
    "          ylim=(-0.5, 5),\n",
    "          title='reactivity of training set',\n",
    "          figsize=(15, 5))\n",
    "ax.get_legend().remove()"
   ]
  },
  {
   "cell_type": "code",
   "execution_count": null,
   "metadata": {},
   "outputs": [],
   "source": [
    "for n in range(68):\n",
    "    train[f'deg_Mg_pH10_{n}'] = train['deg_Mg_pH10'].apply(lambda x: x[n])\n",
    "    \n",
    "DEG_MG_PH10_COLS = [r for r in train.columns if 'deg_Mg_pH10_' in r and 'error' not in r]\n",
    "\n",
    "ax = train.set_index('id')[DEG_MG_PH10_COLS] \\\n",
    "    .T \\\n",
    "    .plot(color='c',\n",
    "          alpha=0.01,\n",
    "          ylim=(-0.5, 5),\n",
    "          title='Deg Mg Ph10 of training set',\n",
    "          figsize=(15, 5))\n",
    "ax.get_legend().remove()"
   ]
  },
  {
   "cell_type": "code",
   "execution_count": null,
   "metadata": {},
   "outputs": [],
   "source": [
    "for n in range(68):\n",
    "    train[f'deg_Mg_50C_{n}'] = train['deg_Mg_50C'].apply(lambda x: x[n])\n",
    "    \n",
    "DEG_MG_50C_COLS = [r for r in train.columns if 'deg_Mg_50C_' in r and 'error' not in r]\n",
    "\n",
    "ax = train.set_index('id')[DEG_MG_50C_COLS] \\\n",
    "    .T \\\n",
    "    .plot(color='m',\n",
    "          alpha=0.2,\n",
    "          ylim=(-2, 7),\n",
    "          title='Deg Mg 50C of training set',\n",
    "          figsize=(15, 5)\n",
    "         )\n",
    "ax.get_legend().remove()"
   ]
  },
  {
   "cell_type": "markdown",
   "metadata": {},
   "source": [
    "# Relationship between targets\n",
    "Colored by `SN_filter` although I'm not clear from the data description what this column represents.\n"
   ]
  },
  {
   "cell_type": "code",
   "execution_count": null,
   "metadata": {},
   "outputs": [],
   "source": [
    "sns.pairplot(data=train,\n",
    "             vars=['mean_reactivity',\n",
    "                   'mean_deg_Mg_pH10',\n",
    "                    'mean_deg_Mg_50C'],\n",
    "            hue='SN_filter')\n",
    "plt.show()"
   ]
  },
  {
   "cell_type": "markdown",
   "metadata": {},
   "source": [
    "# Simple Baseline Using Simple LightGBM [0.47706 LB]\n",
    "\n",
    "This model still predicts the same value for each id in the test set, but the predicted value is based off of the sequence data."
   ]
  },
  {
   "cell_type": "code",
   "execution_count": null,
   "metadata": {},
   "outputs": [],
   "source": [
    "# Expand Sequence Features\n",
    "for n in range(107):\n",
    "    train[f'sequence_{n}'] = train['sequence'].apply(lambda x: x[n]).astype('category')\n",
    "    test[f'sequence_{n}'] = test['sequence'].apply(lambda x: x[n]).astype('category')\n",
    "\n",
    "SEQUENCE_COLS = [c for c in train.columns if 'sequence_' in c]\n",
    "\n",
    "for target in ['reactivity','deg_Mg_pH10','deg_Mg_50C']:\n",
    "\n",
    "    X = train[SEQUENCE_COLS]\n",
    "    y = train[f'mean_{target}']\n",
    "    X_test = test[SEQUENCE_COLS]\n",
    "\n",
    "    X_train, X_val, y_train, y_val = train_test_split(X, y)\n",
    "\n",
    "    reg = lgb.LGBMRegressor(n_estimators=1000)\n",
    "    reg.fit(X_train, y_train,\n",
    "            eval_set=(X_val, y_val),\n",
    "           early_stopping_rounds=100,\n",
    "           verbose=100)\n",
    "\n",
    "    test[f'mean_{target}_pred'] = reg.predict(X_test)"
   ]
  },
  {
   "cell_type": "markdown",
   "metadata": {},
   "source": [
    "## Map mean predictions to test"
   ]
  },
  {
   "cell_type": "code",
   "execution_count": null,
   "metadata": {},
   "outputs": [],
   "source": [
    "ss['id'] = 'id_' + ss['id_seqpos'].str.split('_', expand=True)[1]\n",
    "\n",
    "# Merge my predicted average values\n",
    "ss_new = ss. \\\n",
    "    drop(['reactivity','deg_Mg_pH10','deg_Mg_50C'], axis=1) \\\n",
    "    .merge(test[['id',\n",
    "               'mean_reactivity_pred',\n",
    "               'mean_deg_Mg_pH10_pred',\n",
    "               'mean_deg_Mg_50C_pred']] \\\n",
    "               .rename(columns={'mean_reactivity_pred' : 'reactivity',\n",
    "                                'mean_deg_Mg_pH10_pred': 'deg_Mg_pH10',\n",
    "                                'mean_deg_Mg_50C_pred' : 'deg_Mg_50C'}\n",
    "                      ),\n",
    "         on='id',\n",
    "        validate='m:1')"
   ]
  },
  {
   "cell_type": "code",
   "execution_count": null,
   "metadata": {},
   "outputs": [],
   "source": [
    "TARGETS = ['reactivity','deg_Mg_pH10','deg_Mg_50C']\n",
    "for i, t in enumerate(TARGETS):\n",
    "    ss_new[t].plot(kind='hist',\n",
    "                              figsize=(10, 3),\n",
    "                              bins=100,\n",
    "                              color=color_pal[i*3],\n",
    "                              title=f'Submission {t}')\n",
    "    plt.show()"
   ]
  },
  {
   "cell_type": "code",
   "execution_count": null,
   "metadata": {},
   "outputs": [],
   "source": [
    "ss_new.sample(10)"
   ]
  },
  {
   "cell_type": "code",
   "execution_count": null,
   "metadata": {},
   "outputs": [],
   "source": [
    "# Make Submission\n",
    "ss = pd.read_csv('../input/stanford-covid-vaccine/sample_submission.csv')\n",
    "ss_new[ss.columns].to_csv('submission_lgbm_v1.csv', index=False)"
   ]
  },
  {
   "cell_type": "markdown",
   "metadata": {},
   "source": [
    "# Improve Baseline by adding: **structure** and **predicted_loop_type** features [0.47520 LB]"
   ]
  },
  {
   "cell_type": "code",
   "execution_count": null,
   "metadata": {},
   "outputs": [],
   "source": [
    "# Expand Sequence Features\n",
    "for n in range(107):\n",
    "    train[f'structure_{n}'] = train['structure'].apply(lambda x: x[n]).astype('category')\n",
    "    test[f'structure_{n}'] = test['structure'].apply(lambda x: x[n]).astype('category')\n",
    "    train[f'predicted_loop_type_{n}'] = train['predicted_loop_type'].apply(lambda x: x[n]).astype('category')\n",
    "    test[f'predicted_loop_type_{n}'] = test['predicted_loop_type'].apply(lambda x: x[n]).astype('category')\n",
    "    train[f'sequence_{n}'] = train['sequence'].apply(lambda x: x[n]).astype('category')\n",
    "    test[f'sequence_{n}'] = test['sequence'].apply(lambda x: x[n]).astype('category')\n",
    "\n",
    "SEQUENCE_COLS = [c for c in train.columns if 'sequence_' in c]\n",
    "STRUCTURE_COLS = [c for c in train.columns if 'structure_' in c]\n",
    "PLT_COLS = [c for c in train.columns if 'predicted_loop_type_' in c]\n",
    "\n",
    "for target in ['reactivity','deg_Mg_pH10','deg_Mg_50C']:\n",
    "\n",
    "    X = train[SEQUENCE_COLS + STRUCTURE_COLS + PLT_COLS]\n",
    "    y = train[f'mean_{target}']\n",
    "    X_test = test[SEQUENCE_COLS + STRUCTURE_COLS + PLT_COLS]\n",
    "\n",
    "    X_train, X_val, y_train, y_val = train_test_split(X, y)\n",
    "\n",
    "    reg = lgb.LGBMRegressor(n_estimators=10000,\n",
    "                            learning_rate=0.001,\n",
    "                            feature_fraction=0.8)\n",
    "    reg.fit(X_train, y_train,\n",
    "            eval_set=(X_val, y_val),\n",
    "           early_stopping_rounds=100,\n",
    "           verbose=1000)\n",
    "\n",
    "    test[f'mean_{target}_pred'] = reg.predict(X_test)\n",
    "    \n",
    "ss['id'] = 'id_' + ss['id_seqpos'].str.split('_', expand=True)[1]\n",
    "\n",
    "# Merge my predicted average values\n",
    "ss_new = ss. \\\n",
    "    drop(['reactivity','deg_Mg_pH10','deg_Mg_50C'], axis=1) \\\n",
    "    .merge(test[['id',\n",
    "               'mean_reactivity_pred',\n",
    "               'mean_deg_Mg_pH10_pred',\n",
    "               'mean_deg_Mg_50C_pred']] \\\n",
    "               .rename(columns={'mean_reactivity_pred' : 'reactivity',\n",
    "                                'mean_deg_Mg_pH10_pred': 'deg_Mg_pH10',\n",
    "                                'mean_deg_Mg_50C_pred' : 'deg_Mg_50C'}\n",
    "                      ),\n",
    "         on='id',\n",
    "        validate='m:1')\n",
    "\n",
    "ss = pd.read_csv('../input/stanford-covid-vaccine/sample_submission.csv')\n",
    "ss_new[ss.columns].to_csv('submission.csv', index=False)\n",
    "\n",
    "TARGETS = ['reactivity','deg_Mg_pH10','deg_Mg_50C']\n",
    "for i, t in enumerate(TARGETS):\n",
    "    ss_new[t].plot(kind='hist',\n",
    "                              figsize=(10, 3),\n",
    "                              bins=100,\n",
    "                              color=color_pal[i*3],\n",
    "                              title=f'Submission {t}')\n",
    "    plt.show()"
   ]
  },
  {
   "cell_type": "markdown",
   "metadata": {},
   "source": [
    "# Modeling approach. Fit Line for Reactivity?\n",
    "Lets test and see what a regression line looks like for some example samples. Since we are only given 68 values in the training set and will predict 93 in the test, this might be a good idea for extending the trend beyond 93. "
   ]
  },
  {
   "cell_type": "code",
   "execution_count": null,
   "metadata": {},
   "outputs": [],
   "source": [
    "fig, axs = plt.subplots(5, 5, figsize=(12, 10))\n",
    "axs = axs.flatten()\n",
    "i = 0\n",
    "for row in train.sample(25, random_state=42).iterrows():\n",
    "    myid = row[1]['id']\n",
    "    reactivity_array = row[1][REACTIVITY_COLS].values\n",
    "    sns.regplot(np.array(range(68)).reshape(-1, 1),\n",
    "                reactivity_array,\n",
    "                ax=axs[i],\n",
    "                color=next(color_cycle))\n",
    "    axs[i].set_title(myid)\n",
    "    i += 1\n",
    "fig.suptitle('Reactivity Array for 25 Train Examples with Regression Line',\n",
    "             fontsize=18,\n",
    "             y=1.02)\n",
    "plt.tight_layout()\n",
    "plt.show()"
   ]
  },
  {
   "cell_type": "code",
   "execution_count": null,
   "metadata": {},
   "outputs": [],
   "source": [
    "fig, axs = plt.subplots(5, 5,\n",
    "                        figsize=(12, 10),\n",
    "                       sharex=True)\n",
    "axs = axs.flatten()\n",
    "i = 0\n",
    "for row in train.sample(25, random_state=42).iterrows():\n",
    "    myid = row[1]['id']\n",
    "    reactivity_array = row[1][DEG_MG_50C_COLS].values\n",
    "    sns.regplot(np.array(range(68)).reshape(-1, 1),\n",
    "                reactivity_array,\n",
    "                ax=axs[i],\n",
    "                color=next(color_cycle))\n",
    "    axs[i].set_title(myid)\n",
    "    i += 1\n",
    "fig.suptitle('\"DEG_MG_50C\" Array for 25 Train Examples with Regression Line',\n",
    "             fontsize=18,\n",
    "             y=1.02)\n",
    "plt.tight_layout()\n",
    "plt.show()"
   ]
  },
  {
   "cell_type": "code",
   "execution_count": null,
   "metadata": {},
   "outputs": [],
   "source": [
    "fig, axs = plt.subplots(5, 5, figsize=(12, 10))\n",
    "axs = axs.flatten()\n",
    "i = 0\n",
    "for row in train.sample(25, random_state=42).iterrows():\n",
    "    myid = row[1]['id']\n",
    "    reactivity_array = row[1][DEG_MG_PH10_COLS].values\n",
    "    sns.regplot(np.array(range(68)).reshape(-1, 1),\n",
    "                reactivity_array,\n",
    "                ax=axs[i],\n",
    "                color=next(color_cycle))\n",
    "    axs[i].set_title(myid)\n",
    "    i += 1\n",
    "fig.suptitle('\"DEG_MG_PH10\" Array for 25 Train Examples with Regression Line',\n",
    "             fontsize=18,\n",
    "             y=1.02)\n",
    "plt.tight_layout()\n",
    "plt.show()"
   ]
  },
  {
   "cell_type": "markdown",
   "metadata": {},
   "source": [
    "# Better LightGBM Model\n",
    "- Expanding for one row per prediction"
   ]
  },
  {
   "cell_type": "code",
   "execution_count": null,
   "metadata": {},
   "outputs": [],
   "source": [
    "import pandas as pd\n",
    "import numpy as np\n",
    "import json\n",
    "from tqdm.notebook import tqdm\n",
    "from sklearn.model_selection import train_test_split\n",
    "import lightgbm as lgb\n",
    "import matplotlib.pylab as plt\n",
    "\n",
    "def expand_columns(df):\n",
    "    df = df.copy()\n",
    "    df = df.drop('index', axis=1)\n",
    "    max_seq_length = df['seq_length'].max()\n",
    "    SEQUENCE_COLS = []; STRUCTURE_COLS = []; PRED_LOOP_TYPE_COLS = []\n",
    "    for s in range(130):\n",
    "        df[f'sequence_{s}'] = df['sequence'].str[s]\n",
    "        df[f'structure_{s}'] = df['structure'].str[s]\n",
    "        df[f'predicted_loop_type_{s}'] = df['predicted_loop_type'].str[s]\n",
    "        SEQUENCE_COLS.append(f'sequence_{s}')\n",
    "        STRUCTURE_COLS.append(f'structure_{s}')\n",
    "    return df, SEQUENCE_COLS, STRUCTURE_COLS\n",
    "\n",
    "def parse_sample_submission(ss):\n",
    "    ss = ss.copy()\n",
    "    ss['id'] = ss['id_seqpos'].str.split('_', expand=True)[1]\n",
    "    ss['seqpos'] = ss['id_seqpos'].str.split('_', expand=True)[2].astype('int')\n",
    "    return ss"
   ]
  },
  {
   "cell_type": "code",
   "execution_count": null,
   "metadata": {},
   "outputs": [],
   "source": [
    "def get_train_long(train):\n",
    "    dfs = []\n",
    "\n",
    "    def pad(feat, tolen):\n",
    "        padded = np.pad(feat,\n",
    "                        (0, tolen-len(feat)),\n",
    "                        mode='constant',\n",
    "                        constant_values=np.nan)\n",
    "        return padded\n",
    "\n",
    "    for d in tqdm(train.itertuples(), total=len(train)):\n",
    "        sequence = [s for s in d[3]]\n",
    "        seq_len = len(sequence)\n",
    "        structure = [s for s in d[4]]\n",
    "        predicted_loop_type = [s for s in d[5]]\n",
    "        reactivity_error = pad([s for s in d[10]], seq_len)\n",
    "        deg_error_Mg_pH10 = pad([s for s in d[11]], seq_len)\n",
    "        deg_error_pH10 = pad([s for s in d[12]], seq_len)\n",
    "        deg_error_Mg_50C = pad([s for s in d[13]], seq_len)\n",
    "        deg_error_50C = pad([s for s in d[14]], seq_len)\n",
    "\n",
    "        reactivity = pad([s for s in d[15]], seq_len)\n",
    "        deg_Mg_pH10 = pad([s for s in d[16]], seq_len)\n",
    "        deg_pH10 = pad([s for s in d[17]], seq_len)\n",
    "        deg_Mg_50C = pad([s for s in d[18]], seq_len)\n",
    "        deg_50C = pad([s for s in d[10]], seq_len)\n",
    "        myid = [d[2]] * len(sequence)\n",
    "        seqpos = [c for c in range(len(sequence))]\n",
    "        dfs.append(pd.DataFrame(np.array([myid,\n",
    "                                          seqpos,\n",
    "                                          sequence,\n",
    "                                          structure,\n",
    "                                          predicted_loop_type,\n",
    "                                          reactivity_error,\n",
    "                                          deg_error_Mg_pH10,\n",
    "                                          deg_error_pH10,\n",
    "                                          deg_error_Mg_50C,\n",
    "                                          deg_error_50C,\n",
    "                                          reactivity,\n",
    "                                          deg_Mg_pH10,\n",
    "                                          deg_pH10,\n",
    "                                          deg_Mg_50C,\n",
    "                                         ]).T))\n",
    "    train_long = pd.concat(dfs)\n",
    "\n",
    "    train_long.columns=['id',\n",
    "               'seqpos',\n",
    "               'sequence',\n",
    "               'structure',\n",
    "               'predicted_loop_type',\n",
    "               'reactivity_error',\n",
    "               'deg_error_Mg_pH10',\n",
    "               'deg_error_pH10',\n",
    "               'deg_error_Mg_50C',\n",
    "               'deg_error_50C',\n",
    "               'reactivity',\n",
    "               'deg_Mg_pH10',\n",
    "               'deg_pH10',\n",
    "               'deg_Mg_50C']\n",
    "\n",
    "    return train_long\n",
    "\n",
    "\n",
    "def get_test_long(test):\n",
    "    dfs = []\n",
    "\n",
    "    def pad(feat, tolen):\n",
    "        padded = np.pad(feat,\n",
    "                        (0, tolen-len(feat)),\n",
    "                        mode='constant',\n",
    "                        constant_values=np.nan)\n",
    "        return padded\n",
    "\n",
    "    for d in tqdm(test.itertuples(), total=len(test)):\n",
    "        sequence = [s for s in d[3]]\n",
    "        seq_len = len(sequence)\n",
    "        structure = [s for s in d[4]]\n",
    "        predicted_loop_type = [s for s in d[5]]\n",
    "        myid = [d[2]] * len(sequence)\n",
    "        seqpos = [c for c in range(len(sequence))]\n",
    "        dfs.append(pd.DataFrame(np.array([myid,\n",
    "                                          seqpos,\n",
    "                                          sequence,\n",
    "                                          structure,\n",
    "                                          predicted_loop_type,\n",
    "                                         ]).T))\n",
    "    test_long = pd.concat(dfs)\n",
    "\n",
    "    test_long.columns=['id',\n",
    "               'seqpos',\n",
    "               'sequence',\n",
    "               'structure',\n",
    "               'predicted_loop_type']\n",
    "\n",
    "    return test_long\n",
    "\n",
    "def add_long_features(df):\n",
    "    df = df.copy()\n",
    "    df['seqpos'] = df['seqpos'].astype('int')\n",
    "    df = df.merge(df.query('seqpos <= 106') \\\n",
    "                    .groupby('id')['sequence'] \\\n",
    "                      .value_counts() \\\n",
    "                      .unstack() \\\n",
    "                      .reset_index(),\n",
    "             how='left',\n",
    "             on=['id'],\n",
    "             validate='m:1'\n",
    "            )\n",
    "    \n",
    "    df = df.merge(df.query('seqpos <= 106') \\\n",
    "                  .groupby('id')['structure'] \\\n",
    "                      .value_counts() \\\n",
    "                      .unstack() \\\n",
    "                      .reset_index(),\n",
    "             how='left',\n",
    "             on=['id'],\n",
    "             validate='m:1'\n",
    "            )\n",
    "\n",
    "    df = df.merge(df.query('seqpos <= 106') \\\n",
    "                  .groupby('id')['predicted_loop_type'] \\\n",
    "                      .value_counts() \\\n",
    "                      .unstack() \\\n",
    "                      .reset_index(),\n",
    "             how='left',\n",
    "             on=['id'],\n",
    "             validate='m:1'\n",
    "            )\n",
    "    for shift in [-5, -4, -3, -2 -1, 1, 2, 3, 4, 5]:\n",
    "        for f in ['sequence','structure','predicted_loop_type']:\n",
    "            df[f'{f}_shift{shift}'] = df.groupby('id')[f].shift(shift)\n",
    "    return df"
   ]
  },
  {
   "cell_type": "code",
   "execution_count": null,
   "metadata": {},
   "outputs": [],
   "source": [
    "def make_feature_types(df, features):\n",
    "    df = df.copy()\n",
    "    df = df.replace('nan', np.nan)\n",
    "    for f in features:\n",
    "        try:\n",
    "            df[f] = pd.to_numeric(df[f])\n",
    "        except ValueError:\n",
    "            df[f] = df[f].astype('category')\n",
    "    return df"
   ]
  },
  {
   "cell_type": "code",
   "execution_count": null,
   "metadata": {},
   "outputs": [],
   "source": [
    "train = pd.read_json('../input/stanford-covid-vaccine/train.json', lines=True)\n",
    "test = pd.read_json('../input/stanford-covid-vaccine/test.json', lines=True)\n",
    "ss = pd.read_csv('../input/stanford-covid-vaccine/sample_submission.csv')\n",
    "\n",
    "train_expanded, SEQUENCE_COLS, STRUCTURE_COLS = expand_columns(train)\n",
    "test_expanded, SEQUENCE_COLS, STRUCTURE_COLS = expand_columns(test)\n",
    "ss = parse_sample_submission(ss)\n",
    "\n",
    "train_long = get_train_long(train)\n",
    "test_long = get_test_long(test)\n",
    "\n",
    "train_long = add_long_features(train_long)\n",
    "test_long = add_long_features(test_long)\n",
    "\n",
    "FEATURES = ['seqpos',\n",
    "            'sequence',\n",
    "            'structure',\n",
    "            'predicted_loop_type',\n",
    "            'A', 'C', 'G', 'U', '(', ')', '.', 'B', 'E',\n",
    "            'H', 'I', 'M', 'S', 'X',\n",
    "            'sequence_shift-5', 'structure_shift-5',\n",
    "            'predicted_loop_type_shift-5', 'sequence_shift-4', 'structure_shift-4',\n",
    "            'predicted_loop_type_shift-4', 'sequence_shift-3', 'structure_shift-3',\n",
    "            'predicted_loop_type_shift-3', 'sequence_shift1', 'structure_shift1',\n",
    "            'predicted_loop_type_shift1', 'sequence_shift2', 'structure_shift2',\n",
    "            'predicted_loop_type_shift2', 'sequence_shift3', 'structure_shift3',\n",
    "            'predicted_loop_type_shift3', 'sequence_shift4', 'structure_shift4',\n",
    "            'predicted_loop_type_shift4', 'sequence_shift5', 'structure_shift5',\n",
    "            'predicted_loop_type_shift5']\n",
    "\n",
    "train_long = make_feature_types(train_long, FEATURES)\n",
    "test_long = make_feature_types(test_long, FEATURES)\n",
    "\n",
    "train_ids, val_ids = train_test_split(train['id'].unique())\n",
    "\n",
    "TARGETS = ['reactivity','deg_Mg_pH10','deg_Mg_50C']\n",
    "fis = []\n",
    "for t in TARGETS:\n",
    "    print(f'==== Running for target {t} ====')\n",
    "    X_train = train_long.dropna(subset=[t]).loc[train_long['id'].isin(train_ids)][FEATURES].copy()\n",
    "    y_train = train_long.dropna(subset=[t]).loc[train_long['id'].isin(train_ids)][t].copy()\n",
    "    X_val = train_long.dropna(subset=[t]).loc[train_long['id'].isin(val_ids)][FEATURES].copy()\n",
    "    y_val = train_long.dropna(subset=[t]).loc[train_long['id'].isin(val_ids)][t].copy()\n",
    "    X_test = test_long[FEATURES].copy()\n",
    "    y_train = pd.to_numeric(y_train)\n",
    "    y_val = pd.to_numeric(y_val)\n",
    "    \n",
    "    reg = lgb.LGBMRegressor(n_estimators=10000,\n",
    "                            learning_rate=0.01,\n",
    "                            importance_type='gain')\n",
    "    reg.fit(X_train, y_train,\n",
    "            eval_set=(X_val, y_val),\n",
    "           verbose=1000,\n",
    "           early_stopping_rounds=500)\n",
    "\n",
    "    fi_df = pd.DataFrame(index=FEATURES, \n",
    "                 data=reg.feature_importances_,\n",
    "                 columns=[f'importance_{t}'])\n",
    "    \n",
    "    fi_df.sort_values(f'importance_{t}') \\\n",
    "        .plot(kind='barh', figsize=(8, 15), title=t)\n",
    "    plt.show()\n",
    "    fis.append(fi_df)\n",
    "    \n",
    "    test_long[f'{t}_pred'] = reg.predict(X_test)"
   ]
  },
  {
   "cell_type": "markdown",
   "metadata": {},
   "source": [
    "## Create Submission"
   ]
  },
  {
   "cell_type": "code",
   "execution_count": null,
   "metadata": {},
   "outputs": [],
   "source": [
    "test_long['id_seqpos'] = test_long['id'] + '_' + test_long['seqpos'].astype('str')\n",
    "\n",
    "test_long['deg_pH10'] = 0\n",
    "test_long['deg_50C'] = 0\n",
    "test_long = test_long.rename(columns={'reactivity_pred':'reactivity',\n",
    "                          'deg_Mg_pH10_pred': 'deg_Mg_pH10',\n",
    "                          'deg_Mg_50C_pred': 'deg_Mg_50C'})\n",
    "\n",
    "ss = pd.read_csv('../input/stanford-covid-vaccine/sample_submission.csv')\n",
    "assert test_long[ss.columns].shape == ss.shape\n",
    "\n",
    "test_long[ss.columns].to_csv('submission.csv', index=False)"
   ]
  },
  {
   "cell_type": "markdown",
   "metadata": {},
   "source": [
    "## Plot Distribution of predictions vs. Training"
   ]
  },
  {
   "cell_type": "code",
   "execution_count": null,
   "metadata": {},
   "outputs": [],
   "source": [
    "for t in TARGETS:\n",
    "    train_long[t].dropna().astype('float').plot(kind='hist', bins=50, figsize=(10, 3), title=t)\n",
    "    test_long[t].plot(kind='hist', bins=50, figsize=(10, 3), title=t)\n",
    "    plt.show()"
   ]
  },
  {
   "cell_type": "code",
   "execution_count": null,
   "metadata": {},
   "outputs": [],
   "source": []
  }
 ],
 "metadata": {
  "kernelspec": {
   "display_name": "Python 3",
   "language": "python",
   "name": "python3"
  },
  "language_info": {
   "codemirror_mode": {
    "name": "ipython",
    "version": 3
   },
   "file_extension": ".py",
   "mimetype": "text/x-python",
   "name": "python",
   "nbconvert_exporter": "python",
   "pygments_lexer": "ipython3",
   "version": "3.6.7"
  }
 },
 "nbformat": 4,
 "nbformat_minor": 4
}
